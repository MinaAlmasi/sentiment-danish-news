{
  "nbformat": 4,
  "nbformat_minor": 0,
  "metadata": {
    "colab": {
      "provenance": []
    },
    "kernelspec": {
      "name": "python3",
      "display_name": "Python 3"
    },
    "language_info": {
      "name": "python"
    },
    "gpuClass": "premium"
  },
  "cells": [
    {
      "cell_type": "markdown",
      "source": [
        "# Sentiment Analysis of DaNewsRoom\n",
        "Sentiment Analysis using DaNLP's [BERT TONE](https://github.com/alexandrainst/danlp/blob/master/docs/docs/tasks/sentiment_analysis.md) for the Cultural Data Science Project 2022 by @drasbaek and @MinaAlmasi\n",
        "\n",
        "Using the [DaNewsRoom dataset](https://github.com/alexandrainst/danlp/blob/master/docs/docs/tasks/sentiment_analysis.md)"
      ],
      "metadata": {
        "id": "kVmE2Dbsfbai"
      }
    },
    {
      "cell_type": "markdown",
      "source": [
        "## Import Packages & Mount Google Drive"
      ],
      "metadata": {
        "id": "f3o2a_9ypYrR"
      }
    },
    {
      "cell_type": "code",
      "source": [
        "# import packages for data import\n",
        "import gzip \n",
        "import pandas as pd "
      ],
      "metadata": {
        "id": "MeCsdnavpfxS"
      },
      "execution_count": null,
      "outputs": []
    },
    {
      "cell_type": "code",
      "source": [
        "#progress bar \n",
        "!pip -q install tqdm ipywidgets\n",
        "from tqdm import tqdm\n",
        "import time"
      ],
      "metadata": {
        "id": "3XbINb53LNo8"
      },
      "execution_count": null,
      "outputs": []
    },
    {
      "cell_type": "code",
      "source": [
        "# mount google drive (if run from google colab)\n",
        "from google.colab import drive\n",
        "drive.mount(\"/content/drive\")"
      ],
      "metadata": {
        "id": "XY88Ej7Lpiff"
      },
      "execution_count": null,
      "outputs": []
    },
    {
      "cell_type": "code",
      "source": [
        "#packages for sentiment analysis\n",
        "!pip install -q pandas datasets danlp transformers"
      ],
      "metadata": {
        "id": "R0Nq7aLVOjdv"
      },
      "execution_count": null,
      "outputs": []
    },
    {
      "cell_type": "code",
      "source": [
        "import matplotlib.pyplot as plt #import for plotting\n",
        "import matplotlib as mpl #import for plotting high res"
      ],
      "metadata": {
        "id": "XJbG2Xl4sdP9"
      },
      "execution_count": null,
      "outputs": []
    },
    {
      "cell_type": "code",
      "source": [
        " #check GPU \n",
        " !nvidia-smi -L"
      ],
      "metadata": {
        "id": "H-xBUe_jrZ0g"
      },
      "execution_count": null,
      "outputs": []
    },
    {
      "cell_type": "markdown",
      "source": [
        "## Data import"
      ],
      "metadata": {
        "id": "kk3ZJdR_fXqW"
      }
    },
    {
      "cell_type": "code",
      "source": [
        "#load in the pre-processed dataset \n",
        "filepath = \"/content/drive/MyDrive/002 cultural-data-science/data/preprocessed_DaNewsRoom.csv\"\n",
        "\n",
        "#read data in chunks of 100.000 rows at a time \n",
        "chunk = pd.read_csv(filepath, chunksize=10000)\n",
        "data = pd.concat(chunk)"
      ],
      "metadata": {
        "id": "7KrxnACOfNfH"
      },
      "execution_count": null,
      "outputs": []
    },
    {
      "cell_type": "code",
      "source": [
        "data.head()"
      ],
      "metadata": {
        "id": "oP2xiigP_KqL"
      },
      "execution_count": null,
      "outputs": []
    },
    {
      "cell_type": "markdown",
      "source": [
        "## BERT TONE CLASSIFICATION\n",
        "\n",
        "Sentiment Analysis using DaNlP's pretrained bert model:\n",
        "https://github.com/alexandrainst/danlp/blob/master/docs/docs/tasks/sentiment_analysis.md"
      ],
      "metadata": {
        "id": "GzXEY-I2WApn"
      }
    },
    {
      "cell_type": "markdown",
      "source": [
        "### Loading BERT Tone Model"
      ],
      "metadata": {
        "id": "J8OcwO16pKSJ"
      }
    },
    {
      "cell_type": "code",
      "source": [
        "from danlp.models import load_bert_tone_model\n",
        "\n",
        "#load model \n",
        "classifier = load_bert_tone_model()"
      ],
      "metadata": {
        "id": "svIPEnP_g4CD"
      },
      "execution_count": null,
      "outputs": []
    },
    {
      "cell_type": "markdown",
      "source": [
        "#### Using BERT for Sentiment Analysis"
      ],
      "metadata": {
        "id": "w-MVze0DpO4b"
      }
    },
    {
      "cell_type": "code",
      "source": [
        "# using the classifier to get predictions (tone and sentiment)\n",
        "predictions = [] #define empty list to be appended to in for loop\n",
        "\n",
        "for i in tqdm(range(len(subset_data))):\n",
        "  predictions.append(classifier.predict(subset_data[\"title\"][i]))"
      ],
      "metadata": {
        "id": "gRaHOChNh-WH"
      },
      "execution_count": null,
      "outputs": []
    },
    {
      "cell_type": "code",
      "source": [
        "# using the classifier to get probabilities for the categorisations\n",
        "probabilities = [] \n",
        "\n",
        "for i in tqdm(range(len(subset_data))):\n",
        "  probabilities.append(classifier.predict_proba(subset_data[\"title\"][i]))"
      ],
      "metadata": {
        "id": "O2AAc8Ti_3Yb"
      },
      "execution_count": null,
      "outputs": []
    },
    {
      "cell_type": "code",
      "source": [
        "# checking the classes\n",
        "classifier._classes()"
      ],
      "metadata": {
        "id": "toz70ILZCiez"
      },
      "execution_count": null,
      "outputs": []
    },
    {
      "cell_type": "code",
      "source": [
        "import numpy as np\n",
        "\n",
        "#make probabilities into seperate columns by splitting up the list of arrays with five values into five columns\n",
        "probabilities_data = pd.DataFrame([array[0].tolist()+array[1].tolist() for array in probabilities],columns=['positive_probability','neutral_probability','negative_probability','objective_probability', \"subjective_probability\"])\n",
        "probabilities_data\n",
        "\n",
        "# convert BERT sentiment predictions into dataframe\n",
        "predictions_data = pd.DataFrame(predictions)\n",
        "\n",
        "#rename polarity into \"sentiment\"\n",
        "predictions_data = predictions_data.rename(columns={\"polarity\": \"sentiment\"})\n",
        "\n",
        "#combine all into final dataframe\n",
        "subset_data = pd.concat([subset_data, predictions_data, probabilities_data], axis=1)"
      ],
      "metadata": {
        "id": "nUQo02mCEqWD"
      },
      "execution_count": null,
      "outputs": []
    },
    {
      "cell_type": "code",
      "source": [
        "subset_data.head()"
      ],
      "metadata": {
        "id": "MZllooquKqGI"
      },
      "execution_count": null,
      "outputs": []
    },
    {
      "cell_type": "markdown",
      "source": [
        "## Initial Plotting to Look at BERT's Predictions"
      ],
      "metadata": {
        "id": "TeDvgP_WIVLf"
      }
    },
    {
      "cell_type": "markdown",
      "source": [
        "### Plotting Sentiment Across Domains"
      ],
      "metadata": {
        "id": "TVsKzygKIhH7"
      }
    },
    {
      "cell_type": "code",
      "source": [
        "# group sentiment per domain\n",
        "sentiment_per_domain = subset_data.groupby([\"domain\", \"sentiment\"])[\"sentiment\"].count()\n",
        "sentiment_per_domain"
      ],
      "metadata": {
        "id": "aXzRF7c5A6TT"
      },
      "execution_count": null,
      "outputs": []
    },
    {
      "cell_type": "code",
      "source": [
        "# make sentiment values (positive, neutral, negative) into columns\n",
        "sentiment_per_domain = sentiment_per_domain.unstack()\n",
        "sentiment_per_domain"
      ],
      "metadata": {
        "id": "y4L758A7HkvA"
      },
      "execution_count": null,
      "outputs": []
    },
    {
      "cell_type": "code",
      "source": [
        "# convert into dataframe\n",
        "sentiment_per_domain = pd.DataFrame(sentiment_per_domain)"
      ],
      "metadata": {
        "id": "U-LvVvk7CXxZ"
      },
      "execution_count": null,
      "outputs": []
    },
    {
      "cell_type": "markdown",
      "source": [
        "Prepare Data for Stacked Barplot:"
      ],
      "metadata": {
        "id": "k0hSukvQJFA9"
      }
    },
    {
      "cell_type": "code",
      "source": [
        "# create sum column\n",
        "sentiment_per_domain[\"sum\"] = sentiment_per_domain[\"negative\"] + sentiment_per_domain[\"neutral\"] + sentiment_per_domain[\"positive\"]\n",
        "\n",
        "# create proportion column\n",
        "sentiment_per_domain[\"proportion_negative\"] = sentiment_per_domain[\"negative\"]/sentiment_per_domain[\"sum\"]\n",
        "sentiment_per_domain[\"proportion_neutral\"] = sentiment_per_domain[\"neutral\"]/sentiment_per_domain[\"sum\"]\n",
        "sentiment_per_domain[\"proportion_positive\"] = sentiment_per_domain[\"positive\"]/sentiment_per_domain[\"sum\"]\n",
        "\n",
        "# select only proportion columns for plot \n",
        "grouped = sentiment_per_domain[[\"proportion_negative\", \"proportion_neutral\",\"proportion_positive\"]]"
      ],
      "metadata": {
        "id": "DyyTfUi_I06P"
      },
      "execution_count": null,
      "outputs": []
    },
    {
      "cell_type": "markdown",
      "source": [
        "Plot:"
      ],
      "metadata": {
        "id": "R_TFxu_9JIjL"
      }
    },
    {
      "cell_type": "code",
      "source": [
        "# define plot resolution and size\n",
        "mpl.rcParams['figure.dpi'] = 150\n",
        "\n",
        "plt.figure(figsize=(5,4))\n",
        "\n",
        "# plot values\n",
        "grouped.plot(kind=\"bar\", stacked=\"True\", color =[\"#ff7678\", \"#d7d7d7\", \"#a0ff9f\"])\n",
        "plt.legend(bbox_to_anchor=(1.02, 0.6), loc=\"upper left\", borderaxespad=0, \n",
        "           labels=[\"Negative\", \"Neutral\", \"Positive\"], \n",
        "           title = \"Sentiment\")"
      ],
      "metadata": {
        "id": "srsj7SsWKeSC"
      },
      "execution_count": null,
      "outputs": []
    },
    {
      "cell_type": "markdown",
      "source": [
        "### Plotting Analytic (Tone) Across Domains"
      ],
      "metadata": {
        "id": "DO7QYAfdJRuW"
      }
    },
    {
      "cell_type": "code",
      "source": [
        "#group analytic by domain\n",
        "analytic_per_domain = subset_data.groupby([\"domain\", \"analytic\"])[\"analytic\"].count()\n",
        "\n",
        "# make objective and subjective into columns\n",
        "analytic_per_domain = analytic_per_domain.unstack() \n",
        "\n",
        "# convert into pandas dataframe \n",
        "analytic_per_domain = pd.DataFrame(analytic_per_domain)"
      ],
      "metadata": {
        "id": "oFscTXBEDVr1"
      },
      "execution_count": null,
      "outputs": []
    },
    {
      "cell_type": "markdown",
      "source": [
        "Prepare Data for Stacked Barplot:"
      ],
      "metadata": {
        "id": "NUkvoG2rJYtt"
      }
    },
    {
      "cell_type": "code",
      "source": [
        "# create sum column\n",
        "analytic_per_domain[\"sum\"] = analytic_per_domain[\"objective\"] + analytic_per_domain[\"subjective\"] \n",
        "\n",
        "# create proportion column\n",
        "analytic_per_domain[\"proportion_subjective\"] = analytic_per_domain[\"subjective\"]/analytic_per_domain[\"sum\"]\n",
        "analytic_per_domain[\"proportion_objective\"] = analytic_per_domain[\"objective\"]/analytic_per_domain[\"sum\"]\n",
        "\n",
        "# select only proportion columns for plot \n",
        "grouped_analytic = analytic_per_domain[[\"proportion_subjective\", \"proportion_objective\"]]"
      ],
      "metadata": {
        "id": "NJBgV56_EVvk"
      },
      "execution_count": null,
      "outputs": []
    },
    {
      "cell_type": "markdown",
      "source": [
        "Make Plot"
      ],
      "metadata": {
        "id": "g0QvM-NXE1Bd"
      }
    },
    {
      "cell_type": "code",
      "source": [
        "#define resolution of plot and figure size \n",
        "mpl.rcParams['figure.dpi'] = 150\n",
        "plt.figure(figsize=(5,4))\n",
        "\n",
        "#plot values\n",
        "grouped_analytic.plot(kind=\"bar\", stacked=\"True\", color =[\"#FF00B3\", \"lightblue\"])\n",
        "plt.legend(bbox_to_anchor=(1.02, 0.6), loc=\"upper left\", borderaxespad=0, \n",
        "           labels=[\"Subjective\", \"Objective\"])"
      ],
      "metadata": {
        "id": "PwofaRqDEDxk"
      },
      "execution_count": null,
      "outputs": []
    },
    {
      "cell_type": "markdown",
      "source": [
        "## Save BERT Data"
      ],
      "metadata": {
        "id": "O1BVPzffFVg3"
      }
    },
    {
      "cell_type": "code",
      "source": [
        "subset_data.to_csv(\"danews-sentiment-data-V2.csv\")"
      ],
      "metadata": {
        "id": "6Uwf_BGUFWjR"
      },
      "execution_count": null,
      "outputs": []
    }
  ]
}