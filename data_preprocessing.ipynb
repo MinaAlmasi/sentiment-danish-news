{
  "nbformat": 4,
  "nbformat_minor": 0,
  "metadata": {
    "colab": {
      "provenance": [],
      "machine_shape": "hm"
    },
    "kernelspec": {
      "name": "python3",
      "display_name": "Python 3"
    },
    "language_info": {
      "name": "python"
    },
    "gpuClass": "premium"
  },
  "cells": [
    {
      "cell_type": "markdown",
      "source": [
        "# Preprocessing of Data from DaNewsRoom\n",
        "Preprocessing of the DaNewsRoom datasetfor the Cultural Data Science Project 2022 by @drasbaek and @MinaAlmasi\n",
        "\n",
        "[DaNewsRoom dataset](https://github.com/alexandrainst/danlp/blob/master/docs/docs/tasks/sentiment_analysis.md)"
      ],
      "metadata": {
        "id": "kVmE2Dbsfbai"
      }
    },
    {
      "cell_type": "markdown",
      "source": [
        "## Import Packages & Mount Google Drive"
      ],
      "metadata": {
        "id": "f3o2a_9ypYrR"
      }
    },
    {
      "cell_type": "code",
      "source": [
        "# import packages for data import\n",
        "import gzip \n",
        "import pandas as pd "
      ],
      "metadata": {
        "id": "MeCsdnavpfxS"
      },
      "execution_count": 1,
      "outputs": []
    },
    {
      "cell_type": "code",
      "source": [
        "#progress bar \n",
        "!pip -q install tqdm ipywidgets\n",
        "from tqdm import tqdm\n",
        "import time"
      ],
      "metadata": {
        "id": "3XbINb53LNo8",
        "colab": {
          "base_uri": "https://localhost:8080/"
        },
        "outputId": "d9a1ae66-d1be-4b86-e3d1-c3f6d3ce855c"
      },
      "execution_count": 2,
      "outputs": [
        {
          "output_type": "stream",
          "name": "stdout",
          "text": [
            "\u001b[?25l     \u001b[90m━━━━━━━━━━━━━━━━━━━━━━━━━━━━━━━━━━━━━━━━\u001b[0m \u001b[32m0.0/1.6 MB\u001b[0m \u001b[31m?\u001b[0m eta \u001b[36m-:--:--\u001b[0m\r\u001b[2K     \u001b[91m━━━━━━━━━━━\u001b[0m\u001b[90m╺\u001b[0m\u001b[90m━━━━━━━━━━━━━━━━━━━━━━━━━━━━\u001b[0m \u001b[32m0.4/1.6 MB\u001b[0m \u001b[31m13.1 MB/s\u001b[0m eta \u001b[36m0:00:01\u001b[0m\r\u001b[2K     \u001b[91m━━━━━━━━━━━━━━━━━━━━━━━━━━━━━━━━━━━━━━━\u001b[0m\u001b[91m╸\u001b[0m \u001b[32m1.6/1.6 MB\u001b[0m \u001b[31m29.1 MB/s\u001b[0m eta \u001b[36m0:00:01\u001b[0m\r\u001b[2K     \u001b[90m━━━━━━━━━━━━━━━━━━━━━━━━━━━━━━━━━━━━━━━━\u001b[0m \u001b[32m1.6/1.6 MB\u001b[0m \u001b[31m20.7 MB/s\u001b[0m eta \u001b[36m0:00:00\u001b[0m\n",
            "\u001b[?25h"
          ]
        }
      ]
    },
    {
      "cell_type": "code",
      "source": [
        "# mount google drive (if run from google colab)\n",
        "from google.colab import drive\n",
        "drive.mount(\"/content/drive\")"
      ],
      "metadata": {
        "id": "XY88Ej7Lpiff",
        "colab": {
          "base_uri": "https://localhost:8080/"
        },
        "outputId": "ea5b3a89-4c93-4a1c-bce8-0ce7987f9208"
      },
      "execution_count": 3,
      "outputs": [
        {
          "output_type": "stream",
          "name": "stdout",
          "text": [
            "Mounted at /content/drive\n"
          ]
        }
      ]
    },
    {
      "cell_type": "code",
      "source": [
        "import matplotlib.pyplot as plt #import for plotting\n",
        "import matplotlib as mpl #import for plotting high res"
      ],
      "metadata": {
        "id": "sW5gFL7kMAOW"
      },
      "execution_count": 10,
      "outputs": []
    },
    {
      "cell_type": "markdown",
      "source": [
        "## Import Raw Data"
      ],
      "metadata": {
        "id": "kk3ZJdR_fXqW"
      }
    },
    {
      "cell_type": "code",
      "source": [
        "# open gzip file (jsonl)\n",
        "with gzip.open(\"/content/drive/MyDrive/000 bachelor-project/danewsroom/danewsroom.jsonl.gz\") as f:\n",
        "    data = pd.read_json(f, lines=True)"
      ],
      "metadata": {
        "id": "7KrxnACOfNfH"
      },
      "execution_count": 4,
      "outputs": []
    },
    {
      "cell_type": "code",
      "source": [
        "data"
      ],
      "metadata": {
        "id": "oP2xiigP_KqL",
        "colab": {
          "base_uri": "https://localhost:8080/",
          "height": 991
        },
        "outputId": "a4abdd0e-a36a-45fe-fb87-d5865086c1ec"
      },
      "execution_count": 5,
      "outputs": [
        {
          "output_type": "execute_result",
          "data": {
            "text/plain": [
              "                                                       url  \\\n",
              "0        http://jyllands-posten.dk/indland/politiretsva...   \n",
              "1        http://www.bt.dk/sex-og-samliv/faa-fingrene-ud...   \n",
              "2        http://www.bt.dk/udland/700-brandfolk-kaemper-...   \n",
              "3        http://www.kristeligt-dagblad.dk/familieliv/al...   \n",
              "4        http://www.bt.dk/politik/politisk-kommentator-...   \n",
              "...                                                    ...   \n",
              "1132729  http://www.dr.dk/sporten/fodbold/landsholdet/o...   \n",
              "1132730  http://nyhederne.tv2.dk/article.php/id-7142275...   \n",
              "1132731  http://www.bt.dk/kendte/se-linda-ps-stoettesan...   \n",
              "1132732  http://gaffa.dk/nyhed/93626/kanye-west-kommer-...   \n",
              "1132733  http://www.jyllands-posten.dk/protected/premiu...   \n",
              "\n",
              "                                                   archive  \\\n",
              "0        https://web.archive.org/web/20171105143735/htt...   \n",
              "1        https://web.archive.org/web/20131005065431/htt...   \n",
              "2        https://web.archive.org/web/20090816213500/htt...   \n",
              "3        https://web.archive.org/web/20150702194844/htt...   \n",
              "4        https://web.archive.org/web/20140506014635/htt...   \n",
              "...                                                    ...   \n",
              "1132729  https://web.archive.org/web/20171007012107/htt...   \n",
              "1132730  https://web.archive.org/web/20130923210617/htt...   \n",
              "1132731  https://web.archive.org/web/20131108010445/htt...   \n",
              "1132732  https://web.archive.org/web/20171104104753/htt...   \n",
              "1132733  https://web.archive.org/web/20140827081013/htt...   \n",
              "\n",
              "                                                     title  \\\n",
              "0        20-årig idømt halvandet års fængsel: Truede un...   \n",
              "1        Få fingrene ud af navlen - ellers går dit parf...   \n",
              "2                      700 brandfolk kæmper mod skovbrande   \n",
              "3           Forældre skal ikke lære børn at blive perfekte   \n",
              "4        Politisk kommentator: I dag tager Thorning hul...   \n",
              "...                                                    ...   \n",
              "1132729  OVERBLIK Fra Brentford til Sevilla: Sådan klar...   \n",
              "1132730      TV: Tjener overraskes af stor sum drikkepenge   \n",
              "1132731     Se Linda P's støttesang til reality-stjernerne   \n",
              "1132732         Kanye West kommer til Glastonbury Festival   \n",
              "1132733                              Et tamt jungleeventyr   \n",
              "\n",
              "                              date  \\\n",
              "0       1970-08-22 11:05:05.143735   \n",
              "1       1970-08-21 23:56:45.065431   \n",
              "2       1970-08-21 12:46:56.213500   \n",
              "3       1970-08-22 05:25:02.194844   \n",
              "4       1970-08-22 02:35:06.014635   \n",
              "...                            ...   \n",
              "1132729 1970-08-22 11:03:27.012107   \n",
              "1132730 1970-08-21 23:55:23.210617   \n",
              "1132731 1970-08-21 23:58:28.010445   \n",
              "1132732 1970-08-22 11:05:04.104753   \n",
              "1132733 1970-08-22 02:40:27.081013   \n",
              "\n",
              "                                                      text  \\\n",
              "0        En 20-årig mand fra Middelfart er blevet idømt...   \n",
              "1        Torsdag den 3. oktober 2013, 08:00\\n\\nI denne ...   \n",
              "2        - Lørdag den 15. august 2009, 05:26\\n\\nDer er ...   \n",
              "3        Den svenske psykolog Petra Krantz Lindgrens rå...   \n",
              "4        Berlingskes politiske kommentator ser det komm...   \n",
              "...                                                    ...   \n",
              "1132729  Kun to ud af 23 spiller i Danmark.\\n\\nSådan er...   \n",
              "1132730  Tjenere i den amerikanske restaurationsbranche...   \n",
              "1132731  Komikeren Linda P ønsker at gøre den danske be...   \n",
              "1132732  Emily Eavis, medarrangør af den engelske Glast...   \n",
              "1132733  Man skal være mere end almindeligt svær at imp...   \n",
              "\n",
              "                                                   summary    density  \\\n",
              "0        Manden er bl.a. blevet dømt for tre tilfælde a...   2.764706   \n",
              "1        Vi danskere er blevet mere og mere egoistiske ...   0.333333   \n",
              "2        Der er indført undtagelsestilstand i bjergene ...  26.166667   \n",
              "3        Den svenske psykolog Petra Krantz Lindgrens rå...  26.000000   \n",
              "4        Berlingskes politiske kommentator ser det komm...  32.000000   \n",
              "...                                                    ...        ...   \n",
              "1132729  Bendtner brillerer, mens Dolberg har svært ved...   0.500000   \n",
              "1132730  Tjenere i den amerikanske restaurationsbranche...  30.000000   \n",
              "1132731  Komikeren Linda P ønsker at gøre den danske be...  26.000000   \n",
              "1132732  Så er det officielt! Kanye er det andet hovedn...   1.666667   \n",
              "1132733  Denne monotone junglefilm forlader sig på skøn...   0.600000   \n",
              "\n",
              "         coverage  compression compression_bin coverage_bin  density_bin  \\\n",
              "0        0.882353    21.882353          medium       medium        mixed   \n",
              "1        0.333333     2.583333             low          low  abstractive   \n",
              "2        0.966667     5.266667             low         high   extractive   \n",
              "3        1.000000    17.500000          medium         high   extractive   \n",
              "4        1.000000    18.250000          medium         high   extractive   \n",
              "...           ...          ...             ...          ...          ...   \n",
              "1132729  0.500000    13.857143             low          low  abstractive   \n",
              "1132730  1.000000     5.100000             low         high   extractive   \n",
              "1132731  1.000000     3.423077             low         high   extractive   \n",
              "1132732  0.733333    20.600000          medium          low        mixed   \n",
              "1132733  0.440000     3.560000             low          low  abstractive   \n",
              "\n",
              "                              site              domain  text_len  valid  \n",
              "0               jyllands-posten.dk     jyllands-posten      1917   True  \n",
              "1                        www.bt.dk                  bt       468   True  \n",
              "2                        www.bt.dk                  bt       864   True  \n",
              "3        www.kristeligt-dagblad.dk  kristeligt-dagblad      2192   True  \n",
              "4                        www.bt.dk                  bt      3018   True  \n",
              "...                            ...                 ...       ...    ...  \n",
              "1132729                  www.dr.dk                  dr       985   True  \n",
              "1132730           nyhederne.tv2.dk                 tv2       813   True  \n",
              "1132731                  www.bt.dk                  bt       479   True  \n",
              "1132732                   gaffa.dk               gaffa      1605   True  \n",
              "1132733     www.jyllands-posten.dk     jyllands-posten       475   True  \n",
              "\n",
              "[1132734 rows x 16 columns]"
            ],
            "text/html": [
              "\n",
              "  <div id=\"df-700cb633-4be0-4b68-92ac-303d27d7d407\">\n",
              "    <div class=\"colab-df-container\">\n",
              "      <div>\n",
              "<style scoped>\n",
              "    .dataframe tbody tr th:only-of-type {\n",
              "        vertical-align: middle;\n",
              "    }\n",
              "\n",
              "    .dataframe tbody tr th {\n",
              "        vertical-align: top;\n",
              "    }\n",
              "\n",
              "    .dataframe thead th {\n",
              "        text-align: right;\n",
              "    }\n",
              "</style>\n",
              "<table border=\"1\" class=\"dataframe\">\n",
              "  <thead>\n",
              "    <tr style=\"text-align: right;\">\n",
              "      <th></th>\n",
              "      <th>url</th>\n",
              "      <th>archive</th>\n",
              "      <th>title</th>\n",
              "      <th>date</th>\n",
              "      <th>text</th>\n",
              "      <th>summary</th>\n",
              "      <th>density</th>\n",
              "      <th>coverage</th>\n",
              "      <th>compression</th>\n",
              "      <th>compression_bin</th>\n",
              "      <th>coverage_bin</th>\n",
              "      <th>density_bin</th>\n",
              "      <th>site</th>\n",
              "      <th>domain</th>\n",
              "      <th>text_len</th>\n",
              "      <th>valid</th>\n",
              "    </tr>\n",
              "  </thead>\n",
              "  <tbody>\n",
              "    <tr>\n",
              "      <th>0</th>\n",
              "      <td>http://jyllands-posten.dk/indland/politiretsva...</td>\n",
              "      <td>https://web.archive.org/web/20171105143735/htt...</td>\n",
              "      <td>20-årig idømt halvandet års fængsel: Truede un...</td>\n",
              "      <td>1970-08-22 11:05:05.143735</td>\n",
              "      <td>En 20-årig mand fra Middelfart er blevet idømt...</td>\n",
              "      <td>Manden er bl.a. blevet dømt for tre tilfælde a...</td>\n",
              "      <td>2.764706</td>\n",
              "      <td>0.882353</td>\n",
              "      <td>21.882353</td>\n",
              "      <td>medium</td>\n",
              "      <td>medium</td>\n",
              "      <td>mixed</td>\n",
              "      <td>jyllands-posten.dk</td>\n",
              "      <td>jyllands-posten</td>\n",
              "      <td>1917</td>\n",
              "      <td>True</td>\n",
              "    </tr>\n",
              "    <tr>\n",
              "      <th>1</th>\n",
              "      <td>http://www.bt.dk/sex-og-samliv/faa-fingrene-ud...</td>\n",
              "      <td>https://web.archive.org/web/20131005065431/htt...</td>\n",
              "      <td>Få fingrene ud af navlen - ellers går dit parf...</td>\n",
              "      <td>1970-08-21 23:56:45.065431</td>\n",
              "      <td>Torsdag den 3. oktober 2013, 08:00\\n\\nI denne ...</td>\n",
              "      <td>Vi danskere er blevet mere og mere egoistiske ...</td>\n",
              "      <td>0.333333</td>\n",
              "      <td>0.333333</td>\n",
              "      <td>2.583333</td>\n",
              "      <td>low</td>\n",
              "      <td>low</td>\n",
              "      <td>abstractive</td>\n",
              "      <td>www.bt.dk</td>\n",
              "      <td>bt</td>\n",
              "      <td>468</td>\n",
              "      <td>True</td>\n",
              "    </tr>\n",
              "    <tr>\n",
              "      <th>2</th>\n",
              "      <td>http://www.bt.dk/udland/700-brandfolk-kaemper-...</td>\n",
              "      <td>https://web.archive.org/web/20090816213500/htt...</td>\n",
              "      <td>700 brandfolk kæmper mod skovbrande</td>\n",
              "      <td>1970-08-21 12:46:56.213500</td>\n",
              "      <td>- Lørdag den 15. august 2009, 05:26\\n\\nDer er ...</td>\n",
              "      <td>Der er indført undtagelsestilstand i bjergene ...</td>\n",
              "      <td>26.166667</td>\n",
              "      <td>0.966667</td>\n",
              "      <td>5.266667</td>\n",
              "      <td>low</td>\n",
              "      <td>high</td>\n",
              "      <td>extractive</td>\n",
              "      <td>www.bt.dk</td>\n",
              "      <td>bt</td>\n",
              "      <td>864</td>\n",
              "      <td>True</td>\n",
              "    </tr>\n",
              "    <tr>\n",
              "      <th>3</th>\n",
              "      <td>http://www.kristeligt-dagblad.dk/familieliv/al...</td>\n",
              "      <td>https://web.archive.org/web/20150702194844/htt...</td>\n",
              "      <td>Forældre skal ikke lære børn at blive perfekte</td>\n",
              "      <td>1970-08-22 05:25:02.194844</td>\n",
              "      <td>Den svenske psykolog Petra Krantz Lindgrens rå...</td>\n",
              "      <td>Den svenske psykolog Petra Krantz Lindgrens rå...</td>\n",
              "      <td>26.000000</td>\n",
              "      <td>1.000000</td>\n",
              "      <td>17.500000</td>\n",
              "      <td>medium</td>\n",
              "      <td>high</td>\n",
              "      <td>extractive</td>\n",
              "      <td>www.kristeligt-dagblad.dk</td>\n",
              "      <td>kristeligt-dagblad</td>\n",
              "      <td>2192</td>\n",
              "      <td>True</td>\n",
              "    </tr>\n",
              "    <tr>\n",
              "      <th>4</th>\n",
              "      <td>http://www.bt.dk/politik/politisk-kommentator-...</td>\n",
              "      <td>https://web.archive.org/web/20140506014635/htt...</td>\n",
              "      <td>Politisk kommentator: I dag tager Thorning hul...</td>\n",
              "      <td>1970-08-22 02:35:06.014635</td>\n",
              "      <td>Berlingskes politiske kommentator ser det komm...</td>\n",
              "      <td>Berlingskes politiske kommentator ser det komm...</td>\n",
              "      <td>32.000000</td>\n",
              "      <td>1.000000</td>\n",
              "      <td>18.250000</td>\n",
              "      <td>medium</td>\n",
              "      <td>high</td>\n",
              "      <td>extractive</td>\n",
              "      <td>www.bt.dk</td>\n",
              "      <td>bt</td>\n",
              "      <td>3018</td>\n",
              "      <td>True</td>\n",
              "    </tr>\n",
              "    <tr>\n",
              "      <th>...</th>\n",
              "      <td>...</td>\n",
              "      <td>...</td>\n",
              "      <td>...</td>\n",
              "      <td>...</td>\n",
              "      <td>...</td>\n",
              "      <td>...</td>\n",
              "      <td>...</td>\n",
              "      <td>...</td>\n",
              "      <td>...</td>\n",
              "      <td>...</td>\n",
              "      <td>...</td>\n",
              "      <td>...</td>\n",
              "      <td>...</td>\n",
              "      <td>...</td>\n",
              "      <td>...</td>\n",
              "      <td>...</td>\n",
              "    </tr>\n",
              "    <tr>\n",
              "      <th>1132729</th>\n",
              "      <td>http://www.dr.dk/sporten/fodbold/landsholdet/o...</td>\n",
              "      <td>https://web.archive.org/web/20171007012107/htt...</td>\n",
              "      <td>OVERBLIK Fra Brentford til Sevilla: Sådan klar...</td>\n",
              "      <td>1970-08-22 11:03:27.012107</td>\n",
              "      <td>Kun to ud af 23 spiller i Danmark.\\n\\nSådan er...</td>\n",
              "      <td>Bendtner brillerer, mens Dolberg har svært ved...</td>\n",
              "      <td>0.500000</td>\n",
              "      <td>0.500000</td>\n",
              "      <td>13.857143</td>\n",
              "      <td>low</td>\n",
              "      <td>low</td>\n",
              "      <td>abstractive</td>\n",
              "      <td>www.dr.dk</td>\n",
              "      <td>dr</td>\n",
              "      <td>985</td>\n",
              "      <td>True</td>\n",
              "    </tr>\n",
              "    <tr>\n",
              "      <th>1132730</th>\n",
              "      <td>http://nyhederne.tv2.dk/article.php/id-7142275...</td>\n",
              "      <td>https://web.archive.org/web/20130923210617/htt...</td>\n",
              "      <td>TV: Tjener overraskes af stor sum drikkepenge</td>\n",
              "      <td>1970-08-21 23:55:23.210617</td>\n",
              "      <td>Tjenere i den amerikanske restaurationsbranche...</td>\n",
              "      <td>Tjenere i den amerikanske restaurationsbranche...</td>\n",
              "      <td>30.000000</td>\n",
              "      <td>1.000000</td>\n",
              "      <td>5.100000</td>\n",
              "      <td>low</td>\n",
              "      <td>high</td>\n",
              "      <td>extractive</td>\n",
              "      <td>nyhederne.tv2.dk</td>\n",
              "      <td>tv2</td>\n",
              "      <td>813</td>\n",
              "      <td>True</td>\n",
              "    </tr>\n",
              "    <tr>\n",
              "      <th>1132731</th>\n",
              "      <td>http://www.bt.dk/kendte/se-linda-ps-stoettesan...</td>\n",
              "      <td>https://web.archive.org/web/20131108010445/htt...</td>\n",
              "      <td>Se Linda P's støttesang til reality-stjernerne</td>\n",
              "      <td>1970-08-21 23:58:28.010445</td>\n",
              "      <td>Komikeren Linda P ønsker at gøre den danske be...</td>\n",
              "      <td>Komikeren Linda P ønsker at gøre den danske be...</td>\n",
              "      <td>26.000000</td>\n",
              "      <td>1.000000</td>\n",
              "      <td>3.423077</td>\n",
              "      <td>low</td>\n",
              "      <td>high</td>\n",
              "      <td>extractive</td>\n",
              "      <td>www.bt.dk</td>\n",
              "      <td>bt</td>\n",
              "      <td>479</td>\n",
              "      <td>True</td>\n",
              "    </tr>\n",
              "    <tr>\n",
              "      <th>1132732</th>\n",
              "      <td>http://gaffa.dk/nyhed/93626/kanye-west-kommer-...</td>\n",
              "      <td>https://web.archive.org/web/20171104104753/htt...</td>\n",
              "      <td>Kanye West kommer til Glastonbury Festival</td>\n",
              "      <td>1970-08-22 11:05:04.104753</td>\n",
              "      <td>Emily Eavis, medarrangør af den engelske Glast...</td>\n",
              "      <td>Så er det officielt! Kanye er det andet hovedn...</td>\n",
              "      <td>1.666667</td>\n",
              "      <td>0.733333</td>\n",
              "      <td>20.600000</td>\n",
              "      <td>medium</td>\n",
              "      <td>low</td>\n",
              "      <td>mixed</td>\n",
              "      <td>gaffa.dk</td>\n",
              "      <td>gaffa</td>\n",
              "      <td>1605</td>\n",
              "      <td>True</td>\n",
              "    </tr>\n",
              "    <tr>\n",
              "      <th>1132733</th>\n",
              "      <td>http://www.jyllands-posten.dk/protected/premiu...</td>\n",
              "      <td>https://web.archive.org/web/20140827081013/htt...</td>\n",
              "      <td>Et tamt jungleeventyr</td>\n",
              "      <td>1970-08-22 02:40:27.081013</td>\n",
              "      <td>Man skal være mere end almindeligt svær at imp...</td>\n",
              "      <td>Denne monotone junglefilm forlader sig på skøn...</td>\n",
              "      <td>0.600000</td>\n",
              "      <td>0.440000</td>\n",
              "      <td>3.560000</td>\n",
              "      <td>low</td>\n",
              "      <td>low</td>\n",
              "      <td>abstractive</td>\n",
              "      <td>www.jyllands-posten.dk</td>\n",
              "      <td>jyllands-posten</td>\n",
              "      <td>475</td>\n",
              "      <td>True</td>\n",
              "    </tr>\n",
              "  </tbody>\n",
              "</table>\n",
              "<p>1132734 rows × 16 columns</p>\n",
              "</div>\n",
              "      <button class=\"colab-df-convert\" onclick=\"convertToInteractive('df-700cb633-4be0-4b68-92ac-303d27d7d407')\"\n",
              "              title=\"Convert this dataframe to an interactive table.\"\n",
              "              style=\"display:none;\">\n",
              "        \n",
              "  <svg xmlns=\"http://www.w3.org/2000/svg\" height=\"24px\"viewBox=\"0 0 24 24\"\n",
              "       width=\"24px\">\n",
              "    <path d=\"M0 0h24v24H0V0z\" fill=\"none\"/>\n",
              "    <path d=\"M18.56 5.44l.94 2.06.94-2.06 2.06-.94-2.06-.94-.94-2.06-.94 2.06-2.06.94zm-11 1L8.5 8.5l.94-2.06 2.06-.94-2.06-.94L8.5 2.5l-.94 2.06-2.06.94zm10 10l.94 2.06.94-2.06 2.06-.94-2.06-.94-.94-2.06-.94 2.06-2.06.94z\"/><path d=\"M17.41 7.96l-1.37-1.37c-.4-.4-.92-.59-1.43-.59-.52 0-1.04.2-1.43.59L10.3 9.45l-7.72 7.72c-.78.78-.78 2.05 0 2.83L4 21.41c.39.39.9.59 1.41.59.51 0 1.02-.2 1.41-.59l7.78-7.78 2.81-2.81c.8-.78.8-2.07 0-2.86zM5.41 20L4 18.59l7.72-7.72 1.47 1.35L5.41 20z\"/>\n",
              "  </svg>\n",
              "      </button>\n",
              "      \n",
              "  <style>\n",
              "    .colab-df-container {\n",
              "      display:flex;\n",
              "      flex-wrap:wrap;\n",
              "      gap: 12px;\n",
              "    }\n",
              "\n",
              "    .colab-df-convert {\n",
              "      background-color: #E8F0FE;\n",
              "      border: none;\n",
              "      border-radius: 50%;\n",
              "      cursor: pointer;\n",
              "      display: none;\n",
              "      fill: #1967D2;\n",
              "      height: 32px;\n",
              "      padding: 0 0 0 0;\n",
              "      width: 32px;\n",
              "    }\n",
              "\n",
              "    .colab-df-convert:hover {\n",
              "      background-color: #E2EBFA;\n",
              "      box-shadow: 0px 1px 2px rgba(60, 64, 67, 0.3), 0px 1px 3px 1px rgba(60, 64, 67, 0.15);\n",
              "      fill: #174EA6;\n",
              "    }\n",
              "\n",
              "    [theme=dark] .colab-df-convert {\n",
              "      background-color: #3B4455;\n",
              "      fill: #D2E3FC;\n",
              "    }\n",
              "\n",
              "    [theme=dark] .colab-df-convert:hover {\n",
              "      background-color: #434B5C;\n",
              "      box-shadow: 0px 1px 3px 1px rgba(0, 0, 0, 0.15);\n",
              "      filter: drop-shadow(0px 1px 2px rgba(0, 0, 0, 0.3));\n",
              "      fill: #FFFFFF;\n",
              "    }\n",
              "  </style>\n",
              "\n",
              "      <script>\n",
              "        const buttonEl =\n",
              "          document.querySelector('#df-700cb633-4be0-4b68-92ac-303d27d7d407 button.colab-df-convert');\n",
              "        buttonEl.style.display =\n",
              "          google.colab.kernel.accessAllowed ? 'block' : 'none';\n",
              "\n",
              "        async function convertToInteractive(key) {\n",
              "          const element = document.querySelector('#df-700cb633-4be0-4b68-92ac-303d27d7d407');\n",
              "          const dataTable =\n",
              "            await google.colab.kernel.invokeFunction('convertToInteractive',\n",
              "                                                     [key], {});\n",
              "          if (!dataTable) return;\n",
              "\n",
              "          const docLinkHtml = 'Like what you see? Visit the ' +\n",
              "            '<a target=\"_blank\" href=https://colab.research.google.com/notebooks/data_table.ipynb>data table notebook</a>'\n",
              "            + ' to learn more about interactive tables.';\n",
              "          element.innerHTML = '';\n",
              "          dataTable['output_type'] = 'display_data';\n",
              "          await google.colab.output.renderOutput(dataTable, element);\n",
              "          const docLink = document.createElement('div');\n",
              "          docLink.innerHTML = docLinkHtml;\n",
              "          element.appendChild(docLink);\n",
              "        }\n",
              "      </script>\n",
              "    </div>\n",
              "  </div>\n",
              "  "
            ]
          },
          "metadata": {},
          "execution_count": 5
        }
      ]
    },
    {
      "cell_type": "markdown",
      "source": [
        "## Subsetting and Preprocessing Data"
      ],
      "metadata": {
        "id": "5TNjYrQSqlkX"
      }
    },
    {
      "cell_type": "markdown",
      "source": [
        "### Reduce dataset to only select media\n",
        "We use a predefined list of the 5 relevant media to filter the rows of the dataset"
      ],
      "metadata": {
        "id": "URCaEO73HSok"
      }
    },
    {
      "cell_type": "code",
      "source": [
        "# defining relevant news media \n",
        "domains = [\"ekstrabladet\", \"bt\", \"seoghoer\", \"dr\", \"tv2\"]\n",
        "\n",
        "# filtering data to keep only relevant news media as defined in list\n",
        "data = data[data[\"domain\"].isin(domains)]\n",
        "\n",
        "#reset index\n",
        "data = data.reset_index(drop=True)\n",
        "\n",
        "# print new length of dataset\n",
        "len(data)"
      ],
      "metadata": {
        "id": "ZPepY8ZV17SB",
        "colab": {
          "base_uri": "https://localhost:8080/"
        },
        "outputId": "72c0053c-d44d-4067-ecb3-6189f2c1a085"
      },
      "execution_count": 6,
      "outputs": [
        {
          "output_type": "execute_result",
          "data": {
            "text/plain": [
              "504510"
            ]
          },
          "metadata": {},
          "execution_count": 6
        }
      ]
    },
    {
      "cell_type": "markdown",
      "source": [
        "### Making Year Column\n",
        "Since the \"date\" column in the data is bugged, we cannot identify when the articles are from. However, the year of publication is also available in the URLs of the articles. Therefore, we use a regular expression to extract the year in which the article was published from all the URLs. These years are added as a new column."
      ],
      "metadata": {
        "id": "pR0mWpZBqot4"
      }
    },
    {
      "cell_type": "code",
      "source": [
        "import re \n",
        "\n",
        "#define function to extract year from the url in \"archive\"\n",
        "def extract_year_from_url(url):\n",
        "    # use a regular expression to extract the year from the URL\n",
        "    year_match = re.search(r'web/\\d{4}', url)\n",
        "    if year_match:\n",
        "        # return year as an integer\n",
        "        return int(year_match.group()[-4:])\n",
        "    else:\n",
        "        # if the year cannot be extracted, return None\n",
        "        return None\n",
        "\n",
        "# define function which uses extract_year_from_url to create year column for data\n",
        "def create_year_column(data):\n",
        "    # apply the extract_year_from_url function to the 'archive' column and store the result in the 'year' column\n",
        "    data['year'] = data['archive'].apply(extract_year_from_url)\n",
        "\n",
        "# use function\n",
        "create_year_column(data)"
      ],
      "metadata": {
        "id": "22w8xXFgqnIs"
      },
      "execution_count": 7,
      "outputs": []
    },
    {
      "cell_type": "markdown",
      "source": [
        "### Checking the distribution of Year Across Domains\n",
        "Before selecting our articles to analyze, we use a grouped facetted histogram by domain to see which years the different medias have articles from"
      ],
      "metadata": {
        "id": "8RAf8Wa9Hkf4"
      }
    },
    {
      "cell_type": "code",
      "source": [
        "import seaborn as sns\n",
        "\n",
        "# use seaborn's facetgrid to create a grid of histograms, with one histogram for each domain\n",
        "g = sns.FacetGrid(data, col=\"domain\", col_wrap=3, sharex=False, sharey=False)\n",
        "\n",
        "# for each domain, create a histogram with the same bin edges\n",
        "bins = len(set(data['year']))\n",
        "g.map(plt.hist, \"year\", bins=bins, color=\"#FF00B3\")\n",
        "\n",
        "# adjust layout and show plot\n",
        "g.set_titles(\"{col_name}\")\n",
        "g.set(xlim=(min(data['year']), max(data['year'])))\n",
        "g.set_ylabels(\"Frequency\")\n",
        "g.set_xlabels(\"Year\")\n",
        "plt.show()"
      ],
      "metadata": {
        "id": "2n7fRykZsMGI",
        "colab": {
          "base_uri": "https://localhost:8080/",
          "height": 441
        },
        "outputId": "81e97f9a-3649-46e7-98d4-be19e3c44eb9"
      },
      "execution_count": 11,
      "outputs": [
        {
          "output_type": "display_data",
          "data": {
            "text/plain": [
              "<Figure size 648x432 with 5 Axes>"
            ],
            "image/png": "[encoded data removed]"
          },
          "metadata": {
            "needs_background": "light"
          }
        }
      ]
    },
    {
      "cell_type": "markdown",
      "source": [
        "The plot above shows that the dataset is not equally distributed across years for the different domains. We therefore choose to only select articles from after 2014 as these are the most common in the dataset"
      ],
      "metadata": {
        "id": "zEHdfFJIxPOX"
      }
    },
    {
      "cell_type": "markdown",
      "source": [
        "### Subsetting 10000 rows from each domain in a fixed time period\n",
        "Due to having limited computing power, we cannot examine all the XXX remaining articles. Therefore, we select 10,000 observations from each of the five selected domains. These are randomly sampled in order to avoid selection biases."
      ],
      "metadata": {
        "id": "M8N0cc4vHsEt"
      }
    },
    {
      "cell_type": "code",
      "source": [
        "import random\n",
        "\n",
        "# Create a new data frame with 10000 rows for each domain, containing randomly selected rows from the original data frame\n",
        "subset_data = pd.concat([data[(data['domain'] == domain) & (data['year'] > 2014)].sample(10000, random_state=42) for domain in data['domain'].unique()])\n",
        "\n",
        "# Shuffle the rows of the new data frame\n",
        "subset_data = subset_data.sample(frac=1, random_state=42).reset_index(drop=True)"
      ],
      "metadata": {
        "id": "M6leqv_pxKQh"
      },
      "execution_count": 12,
      "outputs": []
    },
    {
      "cell_type": "markdown",
      "source": [
        "### Checking Year Distribution after Subsetting"
      ],
      "metadata": {
        "id": "rzoTJoCuHxXs"
      }
    },
    {
      "cell_type": "code",
      "source": [
        "# use seaborn's facetgrid to create a grid of histograms, with one histogram for each domain\n",
        "g = sns.FacetGrid(subset_data, col=\"domain\", col_wrap=3, sharex=False, sharey=False)\n",
        "\n",
        "# for each domain, create a histogram with the same bin edges\n",
        "bins = len(set(subset_data['year']))\n",
        "g.map(plt.hist, \"year\", bins=bins, color=\"#c71f1f\")\n",
        "\n",
        "# adjust layout and show plot\n",
        "g.set_titles(\"{col_name}\")\n",
        "g.set(xlim=(min(subset_data['year']), max(subset_data['year'])))\n",
        "g.set_ylabels(\"Frequency\")\n",
        "g.set_xlabels(\"Year\")\n",
        "plt.show()"
      ],
      "metadata": {
        "id": "_KK4DowJyBYM",
        "colab": {
          "base_uri": "https://localhost:8080/",
          "height": 441
        },
        "outputId": "08bff5cb-661c-4e44-878f-e68660ff28fd"
      },
      "execution_count": 13,
      "outputs": [
        {
          "output_type": "display_data",
          "data": {
            "text/plain": [
              "<Figure size 648x432 with 5 Axes>"
            ],
            "image/png": "[encoded data removed]"
          },
          "metadata": {
            "needs_background": "light"
          }
        }
      ]
    },
    {
      "cell_type": "markdown",
      "source": [
        "BT is still of concern, it is kept in the data analysis. "
      ],
      "metadata": {
        "id": "KEK2KuHNMpqM"
      }
    },
    {
      "cell_type": "markdown",
      "source": [
        "## Export Data as a CSV\n",
        "For the sake of accessibility, we choose to export the data as a CSV rather than a zip-compressed JSONL again as CSV is a more common format. This is feasable with our preprocessed data as it has been reduced dramatically in size compared to the original DaNewsRoom"
      ],
      "metadata": {
        "id": "8WWsMM9AJF37"
      }
    },
    {
      "cell_type": "code",
      "source": [
        "data.to_csv(\"/content/drive/MyDrive/002 cultural-data-science/data/preprocessed_DaNewsRoom.csv\")"
      ],
      "metadata": {
        "id": "aIbZQnyfJX7n"
      },
      "execution_count": 14,
      "outputs": []
    }
  ]
}